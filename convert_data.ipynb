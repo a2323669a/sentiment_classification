{
  "cells": [
    {
      "cell_type": "code",
      "execution_count": null,
      "metadata": {
        "collapsed": true,
        "pycharm": {}
      },
      "outputs": [],
      "source": ""
    },
    {
      "cell_type": "code",
      "execution_count": 21,
      "outputs": [],
      "source": "import pandas as pd\nimport numpy as np\n\ndf \u003d pd.read_csv(\"./data/train_conv.csv\")",
      "metadata": {
        "pycharm": {
          "metadata": false,
          "name": "#%%\n",
          "is_executing": false
        }
      }
    },
    {
      "cell_type": "code",
      "execution_count": 34,
      "outputs": [
        {
          "data": {
            "text/plain": "count    28709.000000\nmean         3.317427\nstd          1.876632\nmin          0.000000\n25%          2.000000\n50%          3.000000\n75%          5.000000\nmax          6.000000\nName: label, dtype: float64"
          },
          "metadata": {},
          "output_type": "execute_result",
          "execution_count": 34
        }
      ],
      "source": "df[\u0027label\u0027].describe()",
      "metadata": {
        "pycharm": {
          "metadata": false,
          "name": "#%%\n",
          "is_executing": false
        }
      }
    },
    {
      "cell_type": "code",
      "execution_count": 38,
      "outputs": [
        {
          "data": {
            "text/plain": "count    4307.000000\nmean        3.314604\nstd         1.872672\nmin         0.000000\n25%         2.000000\n50%         3.000000\n75%         5.000000\nmax         6.000000\nName: label, dtype: float64"
          },
          "metadata": {},
          "output_type": "execute_result",
          "execution_count": 38
        }
      ],
      "source": "df_r \u003d df.sample(frac\u003d1,random_state\u003d100)\ndf_t \u003d df_r.iloc[np.floor(len(df)*0.85).astype(\u0027int\u0027):,:]\ndf_t[\u0027label\u0027].describe()\n",
      "metadata": {
        "pycharm": {
          "metadata": false,
          "name": "#%%\n",
          "is_executing": false
        }
      }
    }
  ],
  "metadata": {
    "language_info": {
      "codemirror_mode": {
        "name": "ipython",
        "version": 2
      },
      "file_extension": ".py",
      "mimetype": "text/x-python",
      "name": "python",
      "nbconvert_exporter": "python",
      "pygments_lexer": "ipython2",
      "version": "2.7.6"
    },
    "kernelspec": {
      "name": "python3",
      "language": "python",
      "display_name": "Python 3"
    }
  },
  "nbformat": 4,
  "nbformat_minor": 0
}